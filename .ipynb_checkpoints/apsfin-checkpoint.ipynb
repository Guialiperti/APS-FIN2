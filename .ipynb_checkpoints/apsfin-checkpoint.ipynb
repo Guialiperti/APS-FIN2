{
 "cells": [
  {
   "cell_type": "markdown",
   "metadata": {},
   "source": [
    "# APS Finanças 2 - Seleção de Portfolio\n",
    "### Grupo: Guilherme Silvarolli Aliperti e Nicolas Stegmann\n",
    "\n"
   ]
  },
  {
   "cell_type": "markdown",
   "metadata": {},
   "source": [
    "## O teorema de Markowitz"
   ]
  },
  {
   "cell_type": "markdown",
   "metadata": {},
   "source": [
    "Se pedirmos a investidores para descreverem o processo de investimento, reduzido a sua essência, a maioria dirá que consiste em escolher bons ativos dentro do universo de ativos. Por “bons ativos”, geralmente se entende ativos com capacidade de gerar retornos positivos ou boas perspectivas de valorização, associado a baixo risco de perda.\n",
    "\n",
    "O risco é geralmente definido com desvio padrão dos retornos. Dessa forma, o investidor atuaria como um observador de ativos, procurando o melhor os ativos com maior retorno em relação ao seu risco. Essa ótica porém está incompleta, pois ignora a relação entre ativos. As inter-relações de ativos, quantificadas estatisticamente como covariâncias, podem ser exploradas para melhorar o risco-retorno do investidor.\n",
    "\n",
    "Assim entra em ação o teorema de Markowitz. Utilizando as propriedades de distribuições normais multivariadas, Harry Markowitz propos que o investidor pode atingir retornos melhores do que seriam obtidos com ativos individualmente.\n",
    "\n",
    "Dessa forma, o trabalho aqui proposto tem como objetivo a aplicação do teorema de Markowitz para se definir a carteira ótima de investimento de risco compostas por 10 ativos diferentes."
   ]
  },
  {
   "cell_type": "markdown",
   "metadata": {},
   "source": [
    "## A implementação"
   ]
  },
  {
   "cell_type": "markdown",
   "metadata": {},
   "source": [
    "### Primeira etapa"
   ]
  },
  {
   "cell_type": "markdown",
   "metadata": {},
   "source": [
    "A primeira etapa do trabalho foi a criação de uma base de dados mostrando os resultados de de diversas ações de risco listadas na bolsa. Nessa etapa, os dados foram resgatados no Economática e o resultado da pesquisa de todos os grupos gerou uma base de dados que será utilizada no resto do projeot."
   ]
  },
  {
   "cell_type": "markdown",
   "metadata": {},
   "source": []
  }
 ],
 "metadata": {
  "kernelspec": {
   "display_name": "Python 3",
   "language": "python",
   "name": "python3"
  },
  "language_info": {
   "codemirror_mode": {
    "name": "ipython",
    "version": 3
   },
   "file_extension": ".py",
   "mimetype": "text/x-python",
   "name": "python",
   "nbconvert_exporter": "python",
   "pygments_lexer": "ipython3",
   "version": "3.6.4"
  }
 },
 "nbformat": 4,
 "nbformat_minor": 2
}
