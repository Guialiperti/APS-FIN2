{
 "cells": [
  {
   "cell_type": "markdown",
   "metadata": {},
   "source": [
    "# APS Finanças 2 - Seleção de Portfolio\n",
    "### Grupo: Guilherme Silvarolli Aliperti e Nicolas Stegmann\n",
    "\n"
   ]
  },
  {
   "cell_type": "markdown",
   "metadata": {},
   "source": [
    "## O teorema de Markowitz"
   ]
  },
  {
   "cell_type": "markdown",
   "metadata": {},
   "source": [
    "Se pedirmos a investidores para descreverem o processo de investimento, reduzido a sua essência, a maioria dirá que consiste em escolher bons ativos dentro do universo de ativos. Por “bons ativos”, geralmente se entende ativos com capacidade de gerar retornos positivos ou boas perspectivas de valorização, associado a baixo risco de perda.\n",
    "\n",
    "O risco é geralmente definido com desvio padrão dos retornos. Dessa forma, o investidor atuaria como um observador de ativos, procurando o melhor os ativos com maior retorno em relação ao seu risco. Essa ótica porém está incompleta, pois ignora a relação entre ativos. As inter-relações de ativos, quantificadas estatisticamente como covariâncias, podem ser exploradas para melhorar o risco-retorno do investidor.\n",
    "\n",
    "Assim entra em ação o teorema de Markowitz. Utilizando as propriedades de distribuições normais multivariadas, Harry Markowitz propos que o investidor pode atingir retornos melhores do que seriam obtidos com ativos individualmente.\n",
    "\n",
    "Dessa forma, o trabalho aqui proposto tem como objetivo a aplicação do teorema de Markowitz para se definir a carteira ótima de investimento de risco compostas por 10 ativos diferentes."
   ]
  },
  {
   "cell_type": "markdown",
   "metadata": {},
   "source": [
    "## A implementação"
   ]
  },
  {
   "cell_type": "markdown",
   "metadata": {},
   "source": [
    "### Primeira etapa"
   ]
  },
  {
   "cell_type": "markdown",
   "metadata": {},
   "source": [
    "A primeira etapa do trabalho foi a criação de uma base de dados mostrando os resultados de de diversas ações de risco listadas na bolsa. Nessa etapa, os dados foram resgatados no Economática e o resultado da pesquisa de todos os grupos gerou uma base de dados que será utilizada no resto do projeto."
   ]
  },
  {
   "cell_type": "code",
   "execution_count": 86,
   "metadata": {},
   "outputs": [
    {
     "data": {
      "text/html": [
       "<div>\n",
       "<style scoped>\n",
       "    .dataframe tbody tr th:only-of-type {\n",
       "        vertical-align: middle;\n",
       "    }\n",
       "\n",
       "    .dataframe tbody tr th {\n",
       "        vertical-align: top;\n",
       "    }\n",
       "\n",
       "    .dataframe thead th {\n",
       "        text-align: right;\n",
       "    }\n",
       "</style>\n",
       "<table border=\"1\" class=\"dataframe\">\n",
       "  <thead>\n",
       "    <tr style=\"text-align: right;\">\n",
       "      <th></th>\n",
       "      <th>MELI</th>\n",
       "      <th>AMZN</th>\n",
       "      <th>APPL</th>\n",
       "      <th>MSFT</th>\n",
       "      <th>CRM</th>\n",
       "      <th>LREN3</th>\n",
       "      <th>RENT3</th>\n",
       "      <th>VVAR3</th>\n",
       "      <th>WEGE3</th>\n",
       "      <th>RADL3</th>\n",
       "      <th>IBOV</th>\n",
       "    </tr>\n",
       "    <tr>\n",
       "      <th>Data</th>\n",
       "      <th></th>\n",
       "      <th></th>\n",
       "      <th></th>\n",
       "      <th></th>\n",
       "      <th></th>\n",
       "      <th></th>\n",
       "      <th></th>\n",
       "      <th></th>\n",
       "      <th></th>\n",
       "      <th></th>\n",
       "      <th></th>\n",
       "    </tr>\n",
       "  </thead>\n",
       "  <tbody>\n",
       "    <tr>\n",
       "      <th>Jan-10</th>\n",
       "      <td>36.85</td>\n",
       "      <td>125.41</td>\n",
       "      <td>5.93</td>\n",
       "      <td>22.12</td>\n",
       "      <td>15.89</td>\n",
       "      <td>4.71</td>\n",
       "      <td>4.71</td>\n",
       "      <td>3.05</td>\n",
       "      <td>4.18</td>\n",
       "      <td>8.10</td>\n",
       "      <td>65401</td>\n",
       "    </tr>\n",
       "    <tr>\n",
       "      <th>Fev-10</th>\n",
       "      <td>39.87</td>\n",
       "      <td>118.40</td>\n",
       "      <td>6.32</td>\n",
       "      <td>22.61</td>\n",
       "      <td>16.99</td>\n",
       "      <td>5.11</td>\n",
       "      <td>4.70</td>\n",
       "      <td>2.52</td>\n",
       "      <td>4.14</td>\n",
       "      <td>8.34</td>\n",
       "      <td>66503</td>\n",
       "    </tr>\n",
       "    <tr>\n",
       "      <th>Mar-10</th>\n",
       "      <td>46.72</td>\n",
       "      <td>135.77</td>\n",
       "      <td>7.25</td>\n",
       "      <td>23.10</td>\n",
       "      <td>18.61</td>\n",
       "      <td>5.34</td>\n",
       "      <td>4.49</td>\n",
       "      <td>3.07</td>\n",
       "      <td>4.47</td>\n",
       "      <td>8.60</td>\n",
       "      <td>70371</td>\n",
       "    </tr>\n",
       "    <tr>\n",
       "      <th>Abr-10</th>\n",
       "      <td>48.86</td>\n",
       "      <td>137.10</td>\n",
       "      <td>8.06</td>\n",
       "      <td>24.08</td>\n",
       "      <td>21.40</td>\n",
       "      <td>5.74</td>\n",
       "      <td>4.66</td>\n",
       "      <td>2.91</td>\n",
       "      <td>4.17</td>\n",
       "      <td>9.03</td>\n",
       "      <td>67529</td>\n",
       "    </tr>\n",
       "    <tr>\n",
       "      <th>Mai-10</th>\n",
       "      <td>50.26</td>\n",
       "      <td>125.46</td>\n",
       "      <td>7.93</td>\n",
       "      <td>20.44</td>\n",
       "      <td>21.63</td>\n",
       "      <td>5.81</td>\n",
       "      <td>4.58</td>\n",
       "      <td>3.00</td>\n",
       "      <td>4.00</td>\n",
       "      <td>8.91</td>\n",
       "      <td>63046</td>\n",
       "    </tr>\n",
       "  </tbody>\n",
       "</table>\n",
       "</div>"
      ],
      "text/plain": [
       "         MELI    AMZN  APPL   MSFT    CRM  LREN3  RENT3  VVAR3  WEGE3  RADL3  \\\n",
       "Data                                                                           \n",
       "Jan-10  36.85  125.41  5.93  22.12  15.89   4.71   4.71   3.05   4.18   8.10   \n",
       "Fev-10  39.87  118.40  6.32  22.61  16.99   5.11   4.70   2.52   4.14   8.34   \n",
       "Mar-10  46.72  135.77  7.25  23.10  18.61   5.34   4.49   3.07   4.47   8.60   \n",
       "Abr-10  48.86  137.10  8.06  24.08  21.40   5.74   4.66   2.91   4.17   9.03   \n",
       "Mai-10  50.26  125.46  7.93  20.44  21.63   5.81   4.58   3.00   4.00   8.91   \n",
       "\n",
       "         IBOV  \n",
       "Data           \n",
       "Jan-10  65401  \n",
       "Fev-10  66503  \n",
       "Mar-10  70371  \n",
       "Abr-10  67529  \n",
       "Mai-10  63046  "
      ]
     },
     "execution_count": 86,
     "metadata": {},
     "output_type": "execute_result"
    }
   ],
   "source": [
    "import pandas as pd\n",
    "from pypfopt import EfficientFrontier\n",
    "from pypfopt import risk_models\n",
    "from pypfopt import expected_returns\n",
    "from pypfopt import plotting\n",
    "from pypfopt import CLA\n",
    "from pypfopt import *\n",
    "\n",
    "rf = 0.0227 #rf usado como referencia em todos os calculos \n",
    "df = pd.read_csv(\"dados/grupo2.csv\", parse_dates=True, index_col=\"Data\")\n",
    "df.head()"
   ]
  },
  {
   "cell_type": "markdown",
   "metadata": {},
   "source": [
    "### Segunda etapa"
   ]
  },
  {
   "cell_type": "markdown",
   "metadata": {},
   "source": [
    "Utilizando a bilioteca de python PyPortfolioOpt, primeiramente foram calculados os retornos esperados para cada ativo da carteira, utilizando média aritimética."
   ]
  },
  {
   "cell_type": "code",
   "execution_count": 100,
   "metadata": {},
   "outputs": [
    {
     "data": {
      "image/png": "[encoded data removed]",
      "text/plain": [
       "<Figure size 720x360 with 1 Axes>"
      ]
     },
     "metadata": {},
     "output_type": "display_data"
    }
   ],
   "source": [
    "mu = expected_returns.mean_historical_return(df, frequency= 12)\n",
    "mu.plot.barh(figsize=(10,5));"
   ]
  },
  {
   "cell_type": "markdown",
   "metadata": {},
   "source": [
    "Utilizando esses mesmos dados, calculamos a matriz de covariância da carteira, representada no gráfico abaixo:"
   ]
  },
  {
   "cell_type": "code",
   "execution_count": 74,
   "metadata": {},
   "outputs": [
    {
     "data": {
      "image/png": "[encoded data removed]",
      "text/plain": [
       "<Figure size 432x288 with 2 Axes>"
      ]
     },
     "metadata": {},
     "output_type": "display_data"
    },
    {
     "data": {
      "text/plain": [
       "<matplotlib.axes._subplots.AxesSubplot at 0x1317586a0>"
      ]
     },
     "execution_count": 74,
     "metadata": {},
     "output_type": "execute_result"
    }
   ],
   "source": [
    "S = risk_models.sample_cov(df)\n",
    "plotting.plot_covariance(S, plot_correlation=True)"
   ]
  },
  {
   "cell_type": "markdown",
   "metadata": {},
   "source": [
    "Feito isso, utilizamos um solver disponível na biblioteca citada anteriormente para calcular os pesos de cada ativo na carteira de risco ótima. Os pesos e Tickers de cada ativo são salvos em um documento .csv. Além disso podemos analisar o retorno esperado, volatilidade e indice de Sharpe da carteira."
   ]
  },
  {
   "cell_type": "code",
   "execution_count": 75,
   "metadata": {},
   "outputs": [
    {
     "name": "stdout",
     "output_type": "stream",
     "text": [
      "Expected annual return: 30.2%\n",
      "Annual volatility: 78.2%\n",
      "Sharpe Ratio: 0.36\n"
     ]
    }
   ],
   "source": [
    "ef = EfficientFrontier(mu, S)\n",
    "raw_weights = ef.max_sharpe()\n",
    "cleaned_weights = ef.clean_weights()\n",
    "ef.save_weights_to_file(\"weights.csv\")\n",
    "r = ef.portfolio_performance(verbose=True, risk_free_rate = rf)"
   ]
  },
  {
   "cell_type": "markdown",
   "metadata": {},
   "source": [
    "Abaixo podemos observar os pesos gravados no arquivo de saída."
   ]
  },
  {
   "cell_type": "code",
   "execution_count": 76,
   "metadata": {},
   "outputs": [
    {
     "data": {
      "text/html": [
       "<div>\n",
       "<style scoped>\n",
       "    .dataframe tbody tr th:only-of-type {\n",
       "        vertical-align: middle;\n",
       "    }\n",
       "\n",
       "    .dataframe tbody tr th {\n",
       "        vertical-align: top;\n",
       "    }\n",
       "\n",
       "    .dataframe thead th {\n",
       "        text-align: right;\n",
       "    }\n",
       "</style>\n",
       "<table border=\"1\" class=\"dataframe\">\n",
       "  <thead>\n",
       "    <tr style=\"text-align: right;\">\n",
       "      <th></th>\n",
       "      <th>MELI</th>\n",
       "      <th>0.03087</th>\n",
       "    </tr>\n",
       "  </thead>\n",
       "  <tbody>\n",
       "    <tr>\n",
       "      <th>0</th>\n",
       "      <td>AMZN</td>\n",
       "      <td>0.19903</td>\n",
       "    </tr>\n",
       "    <tr>\n",
       "      <th>1</th>\n",
       "      <td>APPL</td>\n",
       "      <td>0.13680</td>\n",
       "    </tr>\n",
       "    <tr>\n",
       "      <th>2</th>\n",
       "      <td>MSFT</td>\n",
       "      <td>0.12590</td>\n",
       "    </tr>\n",
       "    <tr>\n",
       "      <th>3</th>\n",
       "      <td>CRM</td>\n",
       "      <td>0.07948</td>\n",
       "    </tr>\n",
       "    <tr>\n",
       "      <th>4</th>\n",
       "      <td>LREN3</td>\n",
       "      <td>0.05384</td>\n",
       "    </tr>\n",
       "    <tr>\n",
       "      <th>5</th>\n",
       "      <td>RENT3</td>\n",
       "      <td>0.00000</td>\n",
       "    </tr>\n",
       "    <tr>\n",
       "      <th>6</th>\n",
       "      <td>VVAR3</td>\n",
       "      <td>0.00000</td>\n",
       "    </tr>\n",
       "    <tr>\n",
       "      <th>7</th>\n",
       "      <td>WEGE3</td>\n",
       "      <td>0.18701</td>\n",
       "    </tr>\n",
       "    <tr>\n",
       "      <th>8</th>\n",
       "      <td>RADL3</td>\n",
       "      <td>0.18707</td>\n",
       "    </tr>\n",
       "    <tr>\n",
       "      <th>9</th>\n",
       "      <td>IBOV</td>\n",
       "      <td>0.00000</td>\n",
       "    </tr>\n",
       "  </tbody>\n",
       "</table>\n",
       "</div>"
      ],
      "text/plain": [
       "    MELI  0.03087\n",
       "0   AMZN  0.19903\n",
       "1   APPL  0.13680\n",
       "2   MSFT  0.12590\n",
       "3    CRM  0.07948\n",
       "4  LREN3  0.05384\n",
       "5  RENT3  0.00000\n",
       "6  VVAR3  0.00000\n",
       "7  WEGE3  0.18701\n",
       "8  RADL3  0.18707\n",
       "9   IBOV  0.00000"
      ]
     },
     "execution_count": 76,
     "metadata": {},
     "output_type": "execute_result"
    }
   ],
   "source": [
    "df = pd.read_csv(\"weights.csv\")\n",
    "df"
   ]
  },
  {
   "cell_type": "markdown",
   "metadata": {},
   "source": [
    "Utilizando as funções abaixo, podemos observar o gráfico com a fronteira eficiente de investimento e a carteira ótima de risco, que maximiza o indice de Sharpe."
   ]
  },
  {
   "cell_type": "code",
   "execution_count": 116,
   "metadata": {},
   "outputs": [
    {
     "data": {
      "image/png": "[encoded data removed]",
      "text/plain": [
       "<Figure size 432x288 with 1 Axes>"
      ]
     },
     "metadata": {},
     "output_type": "display_data"
    }
   ],
   "source": [
    "cla = CLA(mu, S)\n",
    "cla.max_sharpe()\n",
    "cla.portfolio_performance()\n",
    "ax = plotting.plot_efficient_frontier(cla)"
   ]
  },
  {
   "cell_type": "markdown",
   "metadata": {},
   "source": [
    "### Terceira etapa"
   ]
  },
  {
   "cell_type": "markdown",
   "metadata": {},
   "source": [
    "O mesmo algoritmo foi replicado para o cálculo da carteira ótima dos outro grupos. O trecho de código abaixo calcula as 10 carteiras ótimas e compara o Sharpe de cada uma, retornando a mais eficiente. Como pode ser observado abaixo, a carteira selecionada foi a do grupo 3."
   ]
  },
  {
   "cell_type": "code",
   "execution_count": 118,
   "metadata": {},
   "outputs": [
    {
     "name": "stdout",
     "output_type": "stream",
     "text": [
      "Sharpe da Carteira Ótima Selecionada: 0.4750919788239898\n",
      "dados/grupo3.csv\n"
     ]
    }
   ],
   "source": [
    "max_sharpe = 0\n",
    "for i in range(1,11):\n",
    "    path = \"dados/grupo\" + str(i) + \".csv\"\n",
    "    df = pd.read_csv(path, parse_dates=True, index_col=\"Data\")\n",
    "    mu = expected_returns.mean_historical_return(df, frequency= 12)\n",
    "    S = risk_models.sample_cov(df)\n",
    "\n",
    "    # Otimiza melhor Sharpe\n",
    "    ef = EfficientFrontier(mu, S)\n",
    "    raw_weights = ef.max_sharpe()\n",
    "    cleaned_weights = ef.clean_weights()\n",
    "    retorno = ef.portfolio_performance(risk_free_rate = rf)\n",
    "\n",
    "    if retorno[2] > max_sharpe:\n",
    "        max_sharpe = retorno[2]\n",
    "        port = path\n",
    "        ef.save_weights_to_file(\"weights.csv\")\n",
    "\n",
    "print(\"Sharpe da Carteira Ótima Selecionada: {0}\".format(max_return))\n",
    "print(port)"
   ]
  },
  {
   "cell_type": "markdown",
   "metadata": {},
   "source": [
    "Seguem os pesos da carteira selecionada:"
   ]
  },
  {
   "cell_type": "code",
   "execution_count": 120,
   "metadata": {},
   "outputs": [
    {
     "data": {
      "text/html": [
       "<div>\n",
       "<style scoped>\n",
       "    .dataframe tbody tr th:only-of-type {\n",
       "        vertical-align: middle;\n",
       "    }\n",
       "\n",
       "    .dataframe tbody tr th {\n",
       "        vertical-align: top;\n",
       "    }\n",
       "\n",
       "    .dataframe thead th {\n",
       "        text-align: right;\n",
       "    }\n",
       "</style>\n",
       "<table border=\"1\" class=\"dataframe\">\n",
       "  <thead>\n",
       "    <tr style=\"text-align: right;\">\n",
       "      <th></th>\n",
       "      <th>GOOGL</th>\n",
       "      <th>0.10488</th>\n",
       "    </tr>\n",
       "  </thead>\n",
       "  <tbody>\n",
       "    <tr>\n",
       "      <th>0</th>\n",
       "      <td>B3SA3</td>\n",
       "      <td>0.00000</td>\n",
       "    </tr>\n",
       "    <tr>\n",
       "      <th>1</th>\n",
       "      <td>BBAS3</td>\n",
       "      <td>0.00000</td>\n",
       "    </tr>\n",
       "    <tr>\n",
       "      <th>2</th>\n",
       "      <td>ITSA4</td>\n",
       "      <td>0.00000</td>\n",
       "    </tr>\n",
       "    <tr>\n",
       "      <th>3</th>\n",
       "      <td>RENT3</td>\n",
       "      <td>0.00926</td>\n",
       "    </tr>\n",
       "    <tr>\n",
       "      <th>4</th>\n",
       "      <td>VVAR3</td>\n",
       "      <td>0.00000</td>\n",
       "    </tr>\n",
       "    <tr>\n",
       "      <th>5</th>\n",
       "      <td>OZ1D</td>\n",
       "      <td>0.18956</td>\n",
       "    </tr>\n",
       "    <tr>\n",
       "      <th>6</th>\n",
       "      <td>VALE3</td>\n",
       "      <td>0.00000</td>\n",
       "    </tr>\n",
       "    <tr>\n",
       "      <th>7</th>\n",
       "      <td>FLMA11</td>\n",
       "      <td>0.04224</td>\n",
       "    </tr>\n",
       "    <tr>\n",
       "      <th>8</th>\n",
       "      <td>RADL3</td>\n",
       "      <td>0.03325</td>\n",
       "    </tr>\n",
       "    <tr>\n",
       "      <th>9</th>\n",
       "      <td>NTN-F</td>\n",
       "      <td>0.62082</td>\n",
       "    </tr>\n",
       "  </tbody>\n",
       "</table>\n",
       "</div>"
      ],
      "text/plain": [
       "    GOOGL  0.10488\n",
       "0   B3SA3  0.00000\n",
       "1   BBAS3  0.00000\n",
       "2   ITSA4  0.00000\n",
       "3   RENT3  0.00926\n",
       "4   VVAR3  0.00000\n",
       "5    OZ1D  0.18956\n",
       "6   VALE3  0.00000\n",
       "7  FLMA11  0.04224\n",
       "8   RADL3  0.03325\n",
       "9   NTN-F  0.62082"
      ]
     },
     "execution_count": 120,
     "metadata": {},
     "output_type": "execute_result"
    }
   ],
   "source": [
    "df_weights = pd.read_csv(\"weights.csv\")\n",
    "df_weights"
   ]
  },
  {
   "cell_type": "markdown",
   "metadata": {},
   "source": [
    "Retornos esperados de cada ativo para essa carteira"
   ]
  },
  {
   "cell_type": "code",
   "execution_count": 121,
   "metadata": {},
   "outputs": [
    {
     "data": {
      "image/png": "[encoded data removed]",
      "text/plain": [
       "<Figure size 720x360 with 1 Axes>"
      ]
     },
     "metadata": {},
     "output_type": "display_data"
    }
   ],
   "source": [
    "df = pd.read_csv(port, parse_dates=True, index_col=\"Data\")\n",
    "mu = expected_returns.mean_historical_return(df, frequency = 12)\n",
    "mu.plot.barh(figsize=(10,5));"
   ]
  },
  {
   "cell_type": "markdown",
   "metadata": {},
   "source": [
    "Matriz de covariância da carteira:"
   ]
  },
  {
   "cell_type": "code",
   "execution_count": 122,
   "metadata": {},
   "outputs": [
    {
     "data": {
      "image/png": "[encoded data removed]",
      "text/plain": [
       "<Figure size 432x288 with 2 Axes>"
      ]
     },
     "metadata": {},
     "output_type": "display_data"
    },
    {
     "data": {
      "text/plain": [
       "<matplotlib.axes._subplots.AxesSubplot at 0x131b3a898>"
      ]
     },
     "execution_count": 122,
     "metadata": {},
     "output_type": "execute_result"
    }
   ],
   "source": [
    "S = risk_models.sample_cov(df)\n",
    "plotting.plot_covariance(S, plot_correlation=True)"
   ]
  },
  {
   "cell_type": "markdown",
   "metadata": {},
   "source": [
    "Fronteira eficiente e carteira ótima de risco:"
   ]
  },
  {
   "cell_type": "code",
   "execution_count": 123,
   "metadata": {},
   "outputs": [
    {
     "data": {
      "image/png": "[encoded data removed]",
      "text/plain": [
       "<Figure size 432x288 with 1 Axes>"
      ]
     },
     "metadata": {},
     "output_type": "display_data"
    }
   ],
   "source": [
    "cla = CLA(mu, S)\n",
    "cla.max_sharpe()\n",
    "cla.portfolio_performance()\n",
    "ax = plotting.plot_efficient_frontier(cla)"
   ]
  },
  {
   "cell_type": "markdown",
   "metadata": {},
   "source": [
    "### Quarta etapa"
   ]
  },
  {
   "cell_type": "markdown",
   "metadata": {},
   "source": [
    "Sabemos que média aritimética não é a melhor forma de estimar retornos futuros, por conta disso optamos por utilizar o modelo CAPM, realizando a etapa anterior novamente mas com retornos estimados por meio do CAPM utilizando o índice Bovespa como referência de mercado. Com isso esperamos chegar a uma melhor estimativa."
   ]
  },
  {
   "cell_type": "markdown",
   "metadata": {},
   "source": [
    "Iniciamos importando os dados do índice Bovespa"
   ]
  },
  {
   "cell_type": "code",
   "execution_count": 125,
   "metadata": {},
   "outputs": [
    {
     "data": {
      "text/html": [
       "<div>\n",
       "<style scoped>\n",
       "    .dataframe tbody tr th:only-of-type {\n",
       "        vertical-align: middle;\n",
       "    }\n",
       "\n",
       "    .dataframe tbody tr th {\n",
       "        vertical-align: top;\n",
       "    }\n",
       "\n",
       "    .dataframe thead th {\n",
       "        text-align: right;\n",
       "    }\n",
       "</style>\n",
       "<table border=\"1\" class=\"dataframe\">\n",
       "  <thead>\n",
       "    <tr style=\"text-align: right;\">\n",
       "      <th></th>\n",
       "      <th>IBOV</th>\n",
       "    </tr>\n",
       "    <tr>\n",
       "      <th>Data</th>\n",
       "      <th></th>\n",
       "    </tr>\n",
       "  </thead>\n",
       "  <tbody>\n",
       "    <tr>\n",
       "      <th>2010-01-01</th>\n",
       "      <td>70045.0</td>\n",
       "    </tr>\n",
       "    <tr>\n",
       "      <th>2010-02-01</th>\n",
       "      <td>66571.0</td>\n",
       "    </tr>\n",
       "    <tr>\n",
       "      <th>2010-03-01</th>\n",
       "      <td>67227.0</td>\n",
       "    </tr>\n",
       "    <tr>\n",
       "      <th>2010-04-01</th>\n",
       "      <td>71136.0</td>\n",
       "    </tr>\n",
       "    <tr>\n",
       "      <th>2010-05-01</th>\n",
       "      <td>67119.0</td>\n",
       "    </tr>\n",
       "  </tbody>\n",
       "</table>\n",
       "</div>"
      ],
      "text/plain": [
       "               IBOV\n",
       "Data               \n",
       "2010-01-01  70045.0\n",
       "2010-02-01  66571.0\n",
       "2010-03-01  67227.0\n",
       "2010-04-01  71136.0\n",
       "2010-05-01  67119.0"
      ]
     },
     "execution_count": 125,
     "metadata": {},
     "output_type": "execute_result"
    }
   ],
   "source": [
    "df_ibov = pd.read_csv(\"dados/ibov.csv\", parse_dates=True, index_col=\"Data\")\n",
    "df_ibov.head()"
   ]
  },
  {
   "cell_type": "markdown",
   "metadata": {},
   "source": [
    "Repetimos o processo feito na terceira etapa para encontrar a melhor carteira, entre as dez carteiras ótimas de risco calculadas."
   ]
  },
  {
   "cell_type": "code",
   "execution_count": 131,
   "metadata": {},
   "outputs": [
    {
     "name": "stdout",
     "output_type": "stream",
     "text": [
      "Sharpe da Carteira Ótima Selecionada: 0.4750919788239898\n",
      "dados/grupo2.csv\n"
     ]
    }
   ],
   "source": [
    "max_sharpe = 0\n",
    "for i in range(1,11):\n",
    "    path = \"dados/grupo\" + str(i) + \".csv\"\n",
    "    df = pd.read_csv(path, parse_dates=True, index_col=\"Data\")\n",
    "    mu = expected_returns.capm_return(df, risk_free_rate = rf, frequency= 12)\n",
    "    S = risk_models.sample_cov(df)\n",
    "    \n",
    "\n",
    "    # Otimiza melhor Sharpe\n",
    "    ef = EfficientFrontier(mu, S)\n",
    "    raw_weights = ef.max_sharpe()\n",
    "    cleaned_weights = ef.clean_weights()\n",
    "    retorno = ef.portfolio_performance(risk_free_rate = rf)\n",
    "\n",
    "    if retorno[2] > max_sharpe:\n",
    "        max_sharpe = retorno[2]\n",
    "        port = path\n",
    "        ef.save_weights_to_file(\"weights.csv\")\n",
    "\n",
    "print(\"Sharpe da Carteira Ótima Selecionada: {0}\".format(max_return))\n",
    "print(port)"
   ]
  },
  {
   "cell_type": "markdown",
   "metadata": {},
   "source": [
    "Pesos dos ativos na carteira ótima de risco escolhida, agora utilizando CAPM para estimar os retornos"
   ]
  },
  {
   "cell_type": "code",
   "execution_count": 132,
   "metadata": {},
   "outputs": [
    {
     "data": {
      "text/html": [
       "<div>\n",
       "<style scoped>\n",
       "    .dataframe tbody tr th:only-of-type {\n",
       "        vertical-align: middle;\n",
       "    }\n",
       "\n",
       "    .dataframe tbody tr th {\n",
       "        vertical-align: top;\n",
       "    }\n",
       "\n",
       "    .dataframe thead th {\n",
       "        text-align: right;\n",
       "    }\n",
       "</style>\n",
       "<table border=\"1\" class=\"dataframe\">\n",
       "  <thead>\n",
       "    <tr style=\"text-align: right;\">\n",
       "      <th></th>\n",
       "      <th>MELI</th>\n",
       "      <th>0.08894</th>\n",
       "    </tr>\n",
       "  </thead>\n",
       "  <tbody>\n",
       "    <tr>\n",
       "      <th>0</th>\n",
       "      <td>AMZN</td>\n",
       "      <td>0.09042</td>\n",
       "    </tr>\n",
       "    <tr>\n",
       "      <th>1</th>\n",
       "      <td>APPL</td>\n",
       "      <td>0.09008</td>\n",
       "    </tr>\n",
       "    <tr>\n",
       "      <th>2</th>\n",
       "      <td>MSFT</td>\n",
       "      <td>0.09330</td>\n",
       "    </tr>\n",
       "    <tr>\n",
       "      <th>3</th>\n",
       "      <td>CRM</td>\n",
       "      <td>0.09160</td>\n",
       "    </tr>\n",
       "    <tr>\n",
       "      <th>4</th>\n",
       "      <td>LREN3</td>\n",
       "      <td>0.09002</td>\n",
       "    </tr>\n",
       "    <tr>\n",
       "      <th>5</th>\n",
       "      <td>RENT3</td>\n",
       "      <td>0.08940</td>\n",
       "    </tr>\n",
       "    <tr>\n",
       "      <th>6</th>\n",
       "      <td>VVAR3</td>\n",
       "      <td>0.09002</td>\n",
       "    </tr>\n",
       "    <tr>\n",
       "      <th>7</th>\n",
       "      <td>WEGE3</td>\n",
       "      <td>0.09186</td>\n",
       "    </tr>\n",
       "    <tr>\n",
       "      <th>8</th>\n",
       "      <td>RADL3</td>\n",
       "      <td>0.09168</td>\n",
       "    </tr>\n",
       "    <tr>\n",
       "      <th>9</th>\n",
       "      <td>IBOV</td>\n",
       "      <td>0.09269</td>\n",
       "    </tr>\n",
       "  </tbody>\n",
       "</table>\n",
       "</div>"
      ],
      "text/plain": [
       "    MELI  0.08894\n",
       "0   AMZN  0.09042\n",
       "1   APPL  0.09008\n",
       "2   MSFT  0.09330\n",
       "3    CRM  0.09160\n",
       "4  LREN3  0.09002\n",
       "5  RENT3  0.08940\n",
       "6  VVAR3  0.09002\n",
       "7  WEGE3  0.09186\n",
       "8  RADL3  0.09168\n",
       "9   IBOV  0.09269"
      ]
     },
     "execution_count": 132,
     "metadata": {},
     "output_type": "execute_result"
    }
   ],
   "source": [
    "df_weights = pd.read_csv(\"weights.csv\")\n",
    "df_weights"
   ]
  },
  {
   "cell_type": "markdown",
   "metadata": {},
   "source": [
    "Retornos esperados dos ativos da carteira ótima escolhida:"
   ]
  },
  {
   "cell_type": "code",
   "execution_count": 136,
   "metadata": {},
   "outputs": [
    {
     "data": {
      "image/png": "[encoded data removed]",
      "text/plain": [
       "<Figure size 720x360 with 1 Axes>"
      ]
     },
     "metadata": {},
     "output_type": "display_data"
    }
   ],
   "source": [
    "df = pd.read_csv(port, parse_dates=True, index_col=\"Data\")\n",
    "mu = expected_returns.capm_return(df, risk_free_rate = rf, frequency= 12)\n",
    "mu.plot.barh(figsize=(10,5));"
   ]
  },
  {
   "cell_type": "markdown",
   "metadata": {},
   "source": [
    "Matriz de covariância dos ativos:"
   ]
  },
  {
   "cell_type": "code",
   "execution_count": 134,
   "metadata": {},
   "outputs": [
    {
     "data": {
      "image/png": "[encoded data removed]",
      "text/plain": [
       "<Figure size 432x288 with 2 Axes>"
      ]
     },
     "metadata": {},
     "output_type": "display_data"
    },
    {
     "data": {
      "text/plain": [
       "<matplotlib.axes._subplots.AxesSubplot at 0x132220390>"
      ]
     },
     "execution_count": 134,
     "metadata": {},
     "output_type": "execute_result"
    }
   ],
   "source": [
    "S = risk_models.sample_cov(df)\n",
    "plotting.plot_covariance(S, plot_correlation=True)"
   ]
  },
  {
   "cell_type": "markdown",
   "metadata": {},
   "source": [
    "Retorno esperado, Risco e Indice de Sharpe da carteira escolhida"
   ]
  },
  {
   "cell_type": "code",
   "execution_count": null,
   "metadata": {},
   "outputs": [],
   "source": [
    "ef = EfficientFrontier(mu, S)\n",
    "raw_weights = ef.max_sharpe()\n",
    "cleaned_weights = ef.clean_weights()\n",
    "retorno = ef.portfolio_performance(risk_free_rate = rf, verbose = True)"
   ]
  },
  {
   "cell_type": "markdown",
   "metadata": {},
   "source": [
    "Fronteira eficiente e carteira ótima de risco"
   ]
  },
  {
   "cell_type": "code",
   "execution_count": 135,
   "metadata": {},
   "outputs": [
    {
     "data": {
      "image/png": "[encoded data removed]",
      "text/plain": [
       "<Figure size 432x288 with 1 Axes>"
      ]
     },
     "metadata": {},
     "output_type": "display_data"
    }
   ],
   "source": [
    "cla = CLA(mu, S)\n",
    "cla.max_sharpe()\n",
    "cla.portfolio_performance()\n",
    "ax = plotting.plot_efficient_frontier(cla)"
   ]
  },
  {
   "cell_type": "code",
   "execution_count": null,
   "metadata": {},
   "outputs": [],
   "source": []
  }
 ],
 "metadata": {
  "kernelspec": {
   "display_name": "Python 3",
   "language": "python",
   "name": "python3"
  },
  "language_info": {
   "codemirror_mode": {
    "name": "ipython",
    "version": 3
   },
   "file_extension": ".py",
   "mimetype": "text/x-python",
   "name": "python",
   "nbconvert_exporter": "python",
   "pygments_lexer": "ipython3",
   "version": "3.6.4"
  }
 },
 "nbformat": 4,
 "nbformat_minor": 2
}
